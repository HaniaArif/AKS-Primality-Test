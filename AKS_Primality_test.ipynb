{
  "nbformat": 4,
  "nbformat_minor": 0,
  "metadata": {
    "colab": {
      "name": "AKS Primality test.ipynb",
      "provenance": [],
      "authorship_tag": "ABX9TyPKQJUUGuWrEHslSlFPQBG+",
      "include_colab_link": true
    },
    "kernelspec": {
      "name": "python3",
      "display_name": "Python 3"
    }
  },
  "cells": [
    {
      "cell_type": "markdown",
      "metadata": {
        "id": "view-in-github",
        "colab_type": "text"
      },
      "source": [
        "<a href=\"https://colab.research.google.com/github/HaniaArif/AKS-Primality-Test/blob/main/AKS_Primality_test.ipynb\" target=\"_parent\"><img src=\"https://colab.research.google.com/assets/colab-badge.svg\" alt=\"Open In Colab\"/></a>"
      ]
    },
    {
      "cell_type": "markdown",
      "metadata": {
        "id": "-UCkVaApo_xJ"
      },
      "source": [
        "**AKS Primality Test**"
      ]
    },
    {
      "cell_type": "markdown",
      "metadata": {
        "id": "YyKcfbFYpUvs"
      },
      "source": [
        "Steps:\r\n",
        "(n is the number to be checked - prime or not)\r\n",
        "1.   Use formula: (x-1)^n - (x^n-1)\r\n",
        "2.   Save all co-efficients of above formula.\r\n",
        "3.   Remove x^n and 1 (first and last co-effieients of expansion)\r\n",
        "4.   Divide all co-efficients with n\r\n",
        "5.   If all co-efficients give modulo = 0 then the number is prime, otherwise not.\r\n",
        "\r\n",
        "\r\n",
        "\r\n"
      ]
    },
    {
      "cell_type": "code",
      "metadata": {
        "colab": {
          "base_uri": "https://localhost:8080/"
        },
        "id": "RIg6VdAzoyTh",
        "outputId": "efc7ba2c-0ab3-45b9-f807-256ec2b179c7"
      },
      "source": [
        "import math\r\n",
        "\r\n",
        "def nCr(n,r):\r\n",
        "    f = math.factorial\r\n",
        "    return f(n) / f(r) / f(n-r)\r\n",
        "\r\n",
        "def AKSTest(n):\r\n",
        "  coeffs = []\r\n",
        "  #save co-effieicents\r\n",
        "  for i in range(0,n+1):\r\n",
        "    coeffs.append(round(nCr(n,i)))  #rounded the answer of co-efficient for getting a whole number\r\n",
        "  #print(coeffs)\r\n",
        "\r\n",
        "  #remove first and last co-efficient by usign for loop starting from second element to second last element\r\n",
        "  #check if coefficients are divisible by the original number\r\n",
        "  for i in range(1,len(coeffs)-1):\r\n",
        "    #print(coeffs[i])\r\n",
        "    if (coeffs[i]%n!=0):  #if not divisible >> Number is NOT Prime\r\n",
        "      print(n, \"is NOT Prime\")\r\n",
        "      return\r\n",
        "  print(n, \"IS Prime\")       #if all coefficients were divisible >> Number IS Prime\r\n",
        "  \r\n",
        "\r\n",
        "AKSTest(49)\r\n"
      ],
      "execution_count": 26,
      "outputs": [
        {
          "output_type": "stream",
          "text": [
            "49 is NOT Prime\n"
          ],
          "name": "stdout"
        }
      ]
    }
  ]
}